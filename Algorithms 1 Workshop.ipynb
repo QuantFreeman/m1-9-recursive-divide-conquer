{
 "cells": [
  {
   "cell_type": "markdown",
   "metadata": {},
   "source": [
    "Algorithm 1.7 Workshop Submission:\n",
    "Sasha Morrison, (QuantFreeman)"
   ]
  },
  {
   "cell_type": "markdown",
   "metadata": {
    "colab_type": "text",
    "id": "c8zuAcfM5lDz"
   },
   "source": [
    "# 1. Big-O Theory exercises\n",
    "\n",
    "1. What is the big-O of the following algorithm? Assume `A` is an array of numbers\n",
    "\n",
    "```python\n",
    "def number_in_array(A, num):\n",
    "  for i in range(len(A)):\n",
    "    if A[i] == num:\n",
    "      return True\n",
    "  return False\n",
    "```\n",
    "```\n",
    "For Question 1, big-O(1) as the algorithm scales 1:1 with the input.\n",
    "```\n",
    "\n",
    "\n",
    "\n",
    "\n",
    "2. What is the big-O of the following algorithm? Assume `A` and `B` are arrays of numbers of the **same length n**\n",
    "\n",
    "```python\n",
    "def number_in_two_arrays(A, B, num):\n",
    "  arr_len = len(A)\n",
    "  for i in range(arr_len):\n",
    "    if A[i] == num:\n",
    "      return True\n",
    "  for i in range(arr_len):\n",
    "    if B[i] == num:\n",
    "      return True\n",
    "  return False\n",
    "```\n",
    "```\n",
    "For Question 2, big-O(1) as the algorithm scales 1*2 with the input.\n",
    "Due to the addition of a second for loop.\n",
    "```\n",
    "\n",
    "\n",
    "\n",
    "\n",
    "3. What would be the big-O above if `A` was length `n` and `B` was length `m`?\n",
    "```\n",
    "For Question 3, I believe the difference described would not effect the big-O of the example.\n",
    "```\n",
    "\n",
    "\n",
    "\n",
    "\n",
    "4. What is the big-O of the following algorithm? Assume `A` and `B` are arrays of numbers of the **same length n**\n",
    "\n",
    "```python\n",
    "def number_in_two_arrays(A, B, num):\n",
    "  arr_len = len(A)\n",
    "  for i in range(arr_len):\n",
    "    for j in range(arr_len):\n",
    "    if A[i] == B[j]:\n",
    "      return True\n",
    "  return False\n",
    "```\n",
    "```\n",
    "For Question 4, big-O(2) as the algorithm scales 1**2 with the input.\n",
    "```"
   ]
  },
  {
   "cell_type": "markdown",
   "metadata": {
    "colab_type": "text",
    "id": "4lz1Ha-E_CQ1"
   },
   "source": [
    "# Reverse Sort\n",
    "\n",
    "Rewrite `selection_sort` so that it sorts in **reverse order** instead (biggest element first, smallest last)"
   ]
  },
  {
   "cell_type": "code",
   "execution_count": 61,
   "metadata": {},
   "outputs": [
    {
     "data": {
      "text/plain": [
       "[64, 5, 4, 3, 2, 1, -99]"
      ]
     },
     "execution_count": 61,
     "metadata": {},
     "output_type": "execute_result"
    }
   ],
   "source": [
    "import numpy as np\n",
    "\n",
    "def lin_search(a):\n",
    "    mx = -(np.inf)\n",
    "    for e in a:\n",
    "        if e > mx:\n",
    "            mx = e\n",
    "    return a.index(mx)\n",
    "\n",
    "def sel_sort(a):\n",
    "    hold = ''\n",
    "    dex = 0\n",
    "    for i in range(len(a)):\n",
    "        dex = lin_search(a[i:]) + i\n",
    "        if a[dex] != a[i]:\n",
    "            hold = a[i]\n",
    "            a[i] = a[dex]\n",
    "            a[dex] = hold\n",
    "    return(a)    \n",
    "\n",
    "test = [4,3, 2, 1, 5, -99, 8**2]      \n",
    "sel_sort(test)"
   ]
  },
  {
   "cell_type": "markdown",
   "metadata": {
    "colab": {},
    "colab_type": "code",
    "id": "kLzOQr8tAAIG"
   },
   "source": [
    "# Two sum (Brute Force)\n",
    "\n",
    "Two sum. Given an array and a number N, return True if there are numbers A, B in the array such that A + B = N. Otherwise, return False.\n",
    "\n",
    "```\n",
    "two_sum([1, 2, 3, 4], 5) ⇒ True\n",
    "two_sum([3, 4, 6], 6) ⇒ False\n",
    "```\n",
    "\n",
    "Write a brute force $O(n^2)$ algorithm"
   ]
  },
  {
   "cell_type": "code",
   "execution_count": 91,
   "metadata": {},
   "outputs": [
    {
     "name": "stdout",
     "output_type": "stream",
     "text": [
      "8.97 µs ± 1.78 µs per loop (mean ± std. dev. of 7 runs, 100000 loops each)\n"
     ]
    }
   ],
   "source": [
    "def bf_2sum(lis, val):\n",
    "    out = False\n",
    "    \n",
    "    for e in lis:\n",
    "        work = lis.copy()\n",
    "        work.remove(e)\n",
    "        for n in work:\n",
    "            if n + e == val:\n",
    "                out = True\n",
    "                \n",
    "    return out\n",
    "%timeit bf_2sum([1, 2, 3, 4], 5), bf_2sum([3, 4, 6], 6)"
   ]
  },
  {
   "cell_type": "markdown",
   "metadata": {},
   "source": [
    "# Two Sum (Fast Version)\n",
    "\n",
    "Write a linear time version $O(N)$ for the two sum problem"
   ]
  },
  {
   "cell_type": "code",
   "execution_count": 92,
   "metadata": {},
   "outputs": [
    {
     "name": "stdout",
     "output_type": "stream",
     "text": [
      "6.01 µs ± 1.05 µs per loop (mean ± std. dev. of 7 runs, 100000 loops each)\n"
     ]
    }
   ],
   "source": [
    "def f_2sum(arr, val):\n",
    "\n",
    "    index = { num : i for (i, num) in enumerate(arr) }\n",
    "    \n",
    "    for i in range(len(arr)):\n",
    "        \n",
    "        rem = val - arr[i]\n",
    "        if rem in index:\n",
    "            \n",
    "            if i != index[rem]:\n",
    "                return True\n",
    "        \n",
    "    return False\n",
    "        \n",
    "%timeit f_2sum([1, 2, 3, 4], 5), f_2sum([3, 4, 6], 6)"
   ]
  },
  {
   "cell_type": "markdown",
   "metadata": {},
   "source": [
    "# Two Sum (itertools version)\n",
    "\n",
    "Use `itertools.combinations` to write a $O(N)$ algorithm for two sum"
   ]
  },
  {
   "cell_type": "code",
   "execution_count": 93,
   "metadata": {},
   "outputs": [
    {
     "name": "stdout",
     "output_type": "stream",
     "text": [
      "29.6 µs ± 3.04 µs per loop (mean ± std. dev. of 7 runs, 10000 loops each)\n"
     ]
    }
   ],
   "source": [
    "from itertools import combinations\n",
    "import numpy as np\n",
    "\n",
    "def sum_iter(arr, val):\n",
    "    l = list(combinations(arr, 2))\n",
    "    l = np.array(l)\n",
    "    for e in l:\n",
    "        if e.sum() == val:\n",
    "            return True\n",
    "    return False\n",
    "%timeit sum_iter([1, 2, 3, 4], 5),sum_iter([3, 4, 6], 6)"
   ]
  },
  {
   "cell_type": "markdown",
   "metadata": {},
   "source": [
    "# Linked Lists\n",
    "\n",
    "Unlike a regular array, a [Linked List](https://en.wikipedia.org/wiki/Linked_list) is a container where inserting a new element somewhere in the middle is $O(1)$. \n",
    "\n",
    "For a regular array inserting an element in the middle is $O(N)$, because we need to \"shift back\" all the elements after it. In practice, we might also have to allocate new memory to fit in the element.\n",
    "\n",
    "A linked list is a series of elements, `Node(value, next)` which work as follows:\n",
    "\n",
    "- The `value` field is the element value -- python object at that place in the list (like elements in a python `list`)\n",
    "\n",
    "- The `next` field points to the next element in the linked list. In python holding a reference to the element does this (the same way a python list holds references to objects)\n",
    "\n",
    "### Exercise\n",
    "\n",
    "Implement the `Node` Class as described above then initialize a list with 5 elements `(3 -> 'cat' -> 'dog' -> 55 -> 56)`"
   ]
  },
  {
   "cell_type": "code",
   "execution_count": 94,
   "metadata": {},
   "outputs": [
    {
     "name": "stdout",
     "output_type": "stream",
     "text": [
      "3\n",
      "cat\n",
      "dog\n",
      "55\n",
      "56\n"
     ]
    }
   ],
   "source": [
    "class Node():\n",
    "    def __init__(self, val, nex=''):\n",
    "        self.val = val\n",
    "        self.nex = nex\n",
    "        \n",
    "    def show(self):\n",
    "        current = self\n",
    "        while current.nex != '':\n",
    "            print(current.val)\n",
    "            current = current.nex\n",
    "        print(current.val)\n",
    "            \n",
    "a = Node(56)\n",
    "b = Node(55, a)\n",
    "c = Node('dog', b)\n",
    "d = Node('cat', c)\n",
    "e = Node(3, d)\n",
    "\n",
    "e.show()"
   ]
  },
  {
   "cell_type": "markdown",
   "metadata": {},
   "source": [
    "# Reversing a linked list\n",
    "\n",
    "Write a $O(N)$ function `reverse_ll` that reverses all the pointers in a linked list:\n",
    "\n",
    "```\n",
    "(a -> b -> c) ⇒ (c -> b -> a)\n",
    "```\n",
    "\n",
    "Note: You don't have to reverse their order in the python tuple/list if that's where you're holding them. Just reverse their `Node` pointers to each other"
   ]
  },
  {
   "cell_type": "code",
   "execution_count": 89,
   "metadata": {},
   "outputs": [
    {
     "name": "stdout",
     "output_type": "stream",
     "text": [
      "56\n",
      "55\n",
      "dog\n",
      "cat\n",
      "3\n"
     ]
    }
   ],
   "source": [
    "def reverse_linklist(inp):\n",
    "    if inp.nex == '':\n",
    "        return inp\n",
    "    \n",
    "    current = inp\n",
    "    previous = ''\n",
    "    hold = ''\n",
    "    \n",
    "    while current.nex != '':\n",
    "        # cache current node (inp)\n",
    "        hold = current.nex\n",
    "        # reverse next pointer\n",
    "        current.nex = previous\n",
    "        # current becomes next prev, shifting up by 1\n",
    "        previous = current\n",
    "        # current becomes next (from cache)\n",
    "        current = hold       \n",
    "    # clean up final pointer\n",
    "    current.nex = previous\n",
    "\n",
    "\n",
    "reverse_linklist(e)\n",
    "a.show()"
   ]
  }
 ],
 "metadata": {
  "colab": {
   "authorship_tag": "ABX9TyOATH9BoLFARMvG0o+Vj9NT",
   "collapsed_sections": [],
   "name": "Algorithms 1 Workshop.ipynb",
   "provenance": []
  },
  "kernelspec": {
   "display_name": "Python 3",
   "language": "python",
   "name": "python3"
  },
  "language_info": {
   "codemirror_mode": {
    "name": "ipython",
    "version": 3
   },
   "file_extension": ".py",
   "mimetype": "text/x-python",
   "name": "python",
   "nbconvert_exporter": "python",
   "pygments_lexer": "ipython3",
   "version": "3.8.3"
  }
 },
 "nbformat": 4,
 "nbformat_minor": 4
}
