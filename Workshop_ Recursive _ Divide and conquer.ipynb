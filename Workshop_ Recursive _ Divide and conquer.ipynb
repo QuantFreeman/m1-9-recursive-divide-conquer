{
 "cells": [
  {
   "cell_type": "markdown",
   "metadata": {},
   "source": [
    "Sasha Morrison, Submission for Recursive Workshop"
   ]
  },
  {
   "cell_type": "markdown",
   "metadata": {
    "colab_type": "text",
    "id": "Bj-Gi0QlUfyL"
   },
   "source": [
    "# Exercise 1.\n",
    "\n",
    "Although merge sort has a better Big-O than selection sort, selection sort can be faster for smaller inputs.\n",
    "\n",
    "Rewrite `merge_sort(A, min_size)` such that sub-arrays smaller than an input parameter `min_size` are sorted with our `selection_sort` from the lecture `algorithms intro`.\n",
    "\n",
    "Time the difference between pure merge sort and this new algorithm. Is it faster? Why or why not?"
   ]
  },
  {
   "cell_type": "code",
   "execution_count": 21,
   "metadata": {
    "jupyter": {
     "source_hidden": true
    }
   },
   "outputs": [
    {
     "name": "stdout",
     "output_type": "stream",
     "text": [
      "4.56 ms ± 156 µs per loop (mean ± std. dev. of 7 runs, 100 loops each)\n"
     ]
    }
   ],
   "source": [
    "import numpy as np\n",
    "\n",
    "def selection_sort(arr):\n",
    "    \"\"\"Selection sort\"\"\"\n",
    "    n_sorted = 0\n",
    "    while n_sorted < len(arr):\n",
    "        # Get the index of the min of remaining elements\n",
    "        # Since argsort returns based on array, we correct result\n",
    "        # with `+ n_sorted`\n",
    "        min_idx = linear_search(arr[n_sorted:]) + n_sorted\n",
    "        # Swap minimum element with leftmost remaining element\n",
    "        to_swap = arr[n_sorted]\n",
    "        arr[n_sorted] = arr[min_idx]\n",
    "        arr[min_idx] = to_swap\n",
    "        # Increment and restart\n",
    "        n_sorted += 1\n",
    "    return arr\n",
    "    \n",
    "def linear_search(arr):\n",
    "    # initialize current best to +infinity\n",
    "    # So any element beats it\n",
    "    current_min = float('inf')\n",
    "    current_min_idx = 0\n",
    "    for i in range(len(arr)):\n",
    "        if arr[i] < current_min:\n",
    "            current_min = arr[i]\n",
    "            current_min_idx = i\n",
    "    return current_min_idx\n",
    "\n",
    "def merge(left, right):\n",
    "    res = []\n",
    "    # Zip in together left and right parts\n",
    "    while len(left)>0 and len(right)>0: \n",
    "        if left[0]<right[0]: \n",
    "            res.append(left.pop(0)) \n",
    "        else: \n",
    "            res.append(right.pop(0)) \n",
    "\n",
    "    # Copy in remaining elements of left and right\n",
    "    # (if there are any)\n",
    "    for i in left: \n",
    "        res.append(i) \n",
    "    for i in right: \n",
    "        res.append(i)\n",
    "    return res\n",
    "\n",
    "def merge_sort(A): \n",
    "    size = len(A)\n",
    "    if size > 1:\n",
    "        m = size // 2\n",
    "        left = merge_sort(A[m:]) \n",
    "        right = merge_sort(A[:m])\n",
    "        return merge(left, right)\n",
    "    else:\n",
    "        return A\n",
    "    \n",
    "test = [ np.random.uniform() for e in range(1000) ]\n",
    "%timeit merge_sort(test)"
   ]
  },
  {
   "cell_type": "code",
   "execution_count": 22,
   "metadata": {},
   "outputs": [
    {
     "name": "stdout",
     "output_type": "stream",
     "text": [
      "5.48 ms ± 184 µs per loop (mean ± std. dev. of 7 runs, 100 loops each)\n"
     ]
    }
   ],
   "source": [
    "import numpy as np\n",
    "\"\"\"\n",
    "Modified Merge Sort\n",
    "at min_size vals around 50 \n",
    "it gets within 1ms,\n",
    "but it seems to be inferior\n",
    "perhaps an issue of my implementation\n",
    "\"\"\"\n",
    "def merge(left, right):\n",
    "    res = []\n",
    "    # Zip in together left and right parts\n",
    "    while len(left)>0 and len(right)>0: \n",
    "        if left[0]<right[0]: \n",
    "            res.append(left[0]) \n",
    "            left = left[1:]\n",
    "        else: \n",
    "            res.append(right[0]) \n",
    "            right = right[1:]\n",
    "    # Copy in remaining elements of left and right\n",
    "    # (if there are any)\n",
    "    for i in left: \n",
    "        res.append(i) \n",
    "    for i in right: \n",
    "        res.append(i)\n",
    "    return res\n",
    "\n",
    "def merge_sort(A, min_size): \n",
    "    size = len(A)\n",
    "    if size > min_size+1:\n",
    "        m = size // 2\n",
    "        lft = merge_sort(A[m:], min_size)\n",
    "        rght = merge_sort(A[:m], min_size)\n",
    "        return merge(lft, rght)\n",
    "    elif size > 1:\n",
    "        return selection_sort(A)\n",
    "    else:\n",
    "        return A\n",
    "\n",
    "%timeit merge_sort(test, 50)"
   ]
  },
  {
   "cell_type": "markdown",
   "metadata": {
    "colab": {},
    "colab_type": "code",
    "id": "_xlEp7VWWkLL"
   },
   "source": [
    "# Exercise 2. \n",
    "\n",
    "Let $A[1...n]$ be an array of $n$ distinct numbers. If $i < j$ and $A[i] > A[j]$, then the pair $(i, j)$ is called an **inversion** of $A$. \n",
    "\n",
    "In other words an inversion is a pair of unsorted elements in an array.\n",
    "\n",
    "**1)** List the five inversions of $[2, 3, 8, 6, 1]$ \n",
    "\n",
    "**2)** Give an algorithm that determines the number of inversions in any permutation on $n$ elements in $O(nlog_2(n))$ worst-case time. (Hint: Modify merge sort.)"
   ]
  },
  {
   "cell_type": "code",
   "execution_count": null,
   "metadata": {},
   "outputs": [],
   "source": [
    "# for testing/checking inversions\n",
    "\n",
    "a =  [3,1,6,0,2,5,4]\n",
    "out = set()\n",
    "for i in a:\n",
    "    for j in a:\n",
    "        if i < j and a.index(i) > a.index(j):\n",
    "            out.add((i, j))\n",
    "print(out)"
   ]
  },
  {
   "cell_type": "code",
   "execution_count": 23,
   "metadata": {},
   "outputs": [
    {
     "data": {
      "text/plain": [
       "([0, 1, 2, 3, 4, 5, 6], 9)"
      ]
     },
     "execution_count": 23,
     "metadata": {},
     "output_type": "execute_result"
    }
   ],
   "source": [
    "\"\"\"\n",
    "Named in gratitude to Javad for \n",
    "his vital assistance to the project\n",
    "\"\"\"\n",
    "def jav_merge(left, right, count):\n",
    "    res = []\n",
    "    jav_count = count\n",
    "    while len(left)>0 and len(right)>0: \n",
    "        if left[0]<right[0]:\n",
    "            res.append(left.pop(0)) \n",
    "        else: \n",
    "            res.append(right.pop(0)) \n",
    "            jav_count += len(left)\n",
    "   \n",
    "    for i in left: \n",
    "        res.append(i) \n",
    "    for i in right: \n",
    "        res.append(i)\n",
    "    return res, jav_count\n",
    "\n",
    "def jav_merge_sort(A):\n",
    "    # split arrays in half recursively\n",
    "    # down to single val lists\n",
    "    # then merge/sorts, on the way up\n",
    "    # tracking inversion count\n",
    "    # and incrementing jav_sum\n",
    "    jav_sum = 0\n",
    "    size = len(A)\n",
    "    if size > 1:\n",
    "        m = size // 2\n",
    "        left, count = jav_merge_sort(A[:m])\n",
    "        jav_sum += count\n",
    "        right, count = jav_merge_sort(A[m:]) \n",
    "        jav_sum += count\n",
    "        return jav_merge(left, right, jav_sum)\n",
    "    else:\n",
    "        # jav_sum is the inversion count\n",
    "        return A, jav_sum\n",
    "    \n",
    "jav_merge_sort([3,1,6,0,2,5,4])"
   ]
  },
  {
   "cell_type": "markdown",
   "metadata": {
    "colab": {},
    "colab_type": "code",
    "id": "7DHNJtvOUkgo"
   },
   "source": [
    "# 3. Recursive sum\n",
    "\n",
    "Write a function that uses recursion to compute the sum of an array or list of numbers\n",
    "\n",
    "```\n",
    "recursive_sum([2, 4, 5, 6, 7])\n",
    "\n",
    "output: 24\n",
    "```"
   ]
  },
  {
   "cell_type": "code",
   "execution_count": null,
   "metadata": {},
   "outputs": [],
   "source": [
    "def recursive_sum(a):\n",
    "    if len(a) <= 1:\n",
    "        return a[0]\n",
    "    else:\n",
    "        s = recursive_sum(a[1:])\n",
    "        return a[0] + s\n",
    "    \n",
    "recursive_sum([2, 4, 5, 6, 7])"
   ]
  },
  {
   "cell_type": "markdown",
   "metadata": {},
   "source": [
    "# 4. Recursive denominators\n",
    "\n",
    "Write a Python program that uses recursion to find the greatest common divisor (gcd) of two integers.\n",
    "\n",
    "```\n",
    "recursive_gcd(12,14)\n",
    "\n",
    "output : 2\n",
    "```"
   ]
  },
  {
   "cell_type": "code",
   "execution_count": null,
   "metadata": {},
   "outputs": [],
   "source": [
    "def rec_gcd(a, b):\n",
    "    print(a, b)\n",
    "    if b == 0:\n",
    "        return a\n",
    "    return rec_gcd(b, a % b)\n",
    "    \n",
    "rec_gcd(0, 12)"
   ]
  },
  {
   "cell_type": "markdown",
   "metadata": {},
   "source": [
    "# 5. Recursive power function\n",
    "\n",
    "Write a recursive function to calculate the value of 'a' to the power 'b'. \n",
    "\n",
    "```\n",
    "recursive_pow(3, 4)\n",
    "\n",
    "output: 81\n",
    "```"
   ]
  },
  {
   "cell_type": "code",
   "execution_count": null,
   "metadata": {},
   "outputs": [],
   "source": [
    "def rec_power(v, p):\n",
    "    if p == 1:\n",
    "        return v\n",
    "    while p > 1:\n",
    "        return rec_power(v, p-1) * v\n",
    "    \n",
    "rec_power(3, 4)"
   ]
  },
  {
   "cell_type": "markdown",
   "metadata": {
    "jupyter": {
     "source_hidden": true
    }
   },
   "source": [
    "# 6. (Stretch) K-Nearest Neighbours\n",
    "\n",
    "Consider a matrix with the following format:\n",
    "\n",
    "```\n",
    "[[0.3, 0.8],\n",
    " [-0.2, 0.5],\n",
    " [1, -1],\n",
    " [0.9, 0.5]\n",
    "]\n",
    "```\n",
    "\n",
    "Each row denotes a point, and the numbers in each row are the coordinates. The coordinates in this example are in 2d, but the matrix could be in 3d (3 numbers per row) or even higher dimensions.\n",
    "\n",
    "Your task is to write a function `knn(m, p)` or `k_nearest_neighbors(m, p, k)` which takes in a matrix of points `m`, an integer `p` denoting the index of a point in that matrix, and an intger `k` denoting the number of nearest neighbors to return.\n",
    "\n",
    "The function returns the index of the `k` nearest neighbors of the point `p` in the matrix `m`.\n",
    "\n",
    "```\n",
    "dataset = [[2.7810836,2.550537003,0],\n",
    "\t[1.465489372,2.362125076,0],\n",
    "\t[3.396561688,4.400293529,0],\n",
    "\t[1.38807019,1.850220317,0],\n",
    "\t[3.06407232,3.005305973,0],\n",
    "\t[7.627531214,2.759262235,1],\n",
    "\t[5.332441248,2.088626775,1],\n",
    "\t[6.922596716,1.77106367,1],\n",
    "\t[8.675418651,-0.242068655,1],\n",
    "\t[7.673756466,3.508563011,1]]\n",
    "\n",
    "knn(dataset, 0, 2)\n",
    "\n",
    "output : [4, 1]\n",
    "```\n",
    "\n",
    "You can use `from sklearn.neighbors import NearestNeighbors` to test your function"
   ]
  }
 ],
 "metadata": {
  "colab": {
   "authorship_tag": "ABX9TyNlxxWG+wkjGmf/FynU0Azv",
   "collapsed_sections": [],
   "name": "Workshop: Recursive && Divide and conquer.ipynb",
   "provenance": []
  },
  "kernelspec": {
   "display_name": "Python 3",
   "language": "python",
   "name": "python3"
  },
  "language_info": {
   "codemirror_mode": {
    "name": "ipython",
    "version": 3
   },
   "file_extension": ".py",
   "mimetype": "text/x-python",
   "name": "python",
   "nbconvert_exporter": "python",
   "pygments_lexer": "ipython3",
   "version": "3.8.3"
  }
 },
 "nbformat": 4,
 "nbformat_minor": 4
}
